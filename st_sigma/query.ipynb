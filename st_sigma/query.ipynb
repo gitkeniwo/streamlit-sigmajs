{
 "cells": [
  {
   "cell_type": "code",
   "execution_count": 1,
   "id": "961d0637",
   "metadata": {},
   "outputs": [],
   "source": [
    "import neo4j\n",
    "from neo4j import GraphDatabase\n",
    "\n",
    "\n",
    "NEO4J_URI = \"bolt://localhost:7687\"\n",
    "NEO4J_USER = \"neo4j\"\n",
    "NEO4J_PASSWORD = \"12345678\"\n",
    "\n",
    "with GraphDatabase.driver(NEO4J_URI, auth=(NEO4J_USER, NEO4J_PASSWORD)) as driver:\n",
    "    driver.verify_connectivity()"
   ]
  },
  {
   "cell_type": "code",
   "execution_count": 9,
   "id": "a4ba8f8a",
   "metadata": {},
   "outputs": [
    {
     "data": {
      "text/plain": [
       "([<Node element_id='4:703ef6a2-7196-42db-bb05-eada244ccc77:0' labels=frozenset({'Person'}) properties={'born': 1980, 'name': 'Alice'}>,\n",
       "  <Node element_id='4:703ef6a2-7196-42db-bb05-eada244ccc77:3' labels=frozenset({'Movie'}) properties={'tagline': 'It’s all connected', 'title': 'The Great Graph', 'released': 2023}>,\n",
       "  <Node element_id='4:703ef6a2-7196-42db-bb05-eada244ccc77:1' labels=frozenset({'Person'}) properties={'born': 1990, 'name': 'Bob'}>,\n",
       "  <Node element_id='4:703ef6a2-7196-42db-bb05-eada244ccc77:4' labels=frozenset({'Movie'}) properties={'tagline': 'Deep dive into the matrix', 'title': 'Neo Adventure', 'released': 2020}>,\n",
       "  <Node element_id='4:703ef6a2-7196-42db-bb05-eada244ccc77:2' labels=frozenset({'Person'}) properties={'born': 1975, 'name': 'Charlie'}>,\n",
       "  <Node element_id='4:703ef6a2-7196-42db-bb05-eada244ccc77:5' labels=frozenset({'Company'}) properties={'name': 'DataCorp', 'industry': 'Tech'}>],\n",
       " [<Relationship element_id='5:703ef6a2-7196-42db-bb05-eada244ccc77:0' nodes=(<Node element_id='4:703ef6a2-7196-42db-bb05-eada244ccc77:0' labels=frozenset({'Person'}) properties={'born': 1980, 'name': 'Alice'}>, <Node element_id='4:703ef6a2-7196-42db-bb05-eada244ccc77:3' labels=frozenset({'Movie'}) properties={'tagline': 'It’s all connected', 'title': 'The Great Graph', 'released': 2023}>) type='ACTED_IN' properties={'roles': ['Lead Grapher']}>,\n",
       "  <Relationship element_id='5:703ef6a2-7196-42db-bb05-eada244ccc77:1' nodes=(<Node element_id='4:703ef6a2-7196-42db-bb05-eada244ccc77:1' labels=frozenset({'Person'}) properties={'born': 1990, 'name': 'Bob'}>, <Node element_id='4:703ef6a2-7196-42db-bb05-eada244ccc77:4' labels=frozenset({'Movie'}) properties={'tagline': 'Deep dive into the matrix', 'title': 'Neo Adventure', 'released': 2020}>) type='ACTED_IN' properties={}>,\n",
       "  <Relationship element_id='5:703ef6a2-7196-42db-bb05-eada244ccc77:2' nodes=(<Node element_id='4:703ef6a2-7196-42db-bb05-eada244ccc77:2' labels=frozenset({'Person'}) properties={'born': 1975, 'name': 'Charlie'}>, <Node element_id='4:703ef6a2-7196-42db-bb05-eada244ccc77:3' labels=frozenset({'Movie'}) properties={'tagline': 'It’s all connected', 'title': 'The Great Graph', 'released': 2023}>) type='DIRECTED' properties={}>,\n",
       "  <Relationship element_id='5:703ef6a2-7196-42db-bb05-eada244ccc77:3' nodes=(<Node element_id='4:703ef6a2-7196-42db-bb05-eada244ccc77:2' labels=frozenset({'Person'}) properties={'born': 1975, 'name': 'Charlie'}>, <Node element_id='4:703ef6a2-7196-42db-bb05-eada244ccc77:4' labels=frozenset({'Movie'}) properties={'tagline': 'Deep dive into the matrix', 'title': 'Neo Adventure', 'released': 2020}>) type='WROTE' properties={}>,\n",
       "  <Relationship element_id='5:703ef6a2-7196-42db-bb05-eada244ccc77:4' nodes=(<Node element_id='4:703ef6a2-7196-42db-bb05-eada244ccc77:0' labels=frozenset({'Person'}) properties={'born': 1980, 'name': 'Alice'}>, <Node element_id='4:703ef6a2-7196-42db-bb05-eada244ccc77:5' labels=frozenset({'Company'}) properties={'name': 'DataCorp', 'industry': 'Tech'}>) type='WORKS_FOR' properties={'since': 2018}>])"
      ]
     },
     "execution_count": 9,
     "metadata": {},
     "output_type": "execute_result"
    }
   ],
   "source": [
    "with GraphDatabase.driver(NEO4J_URI, auth=(NEO4J_USER, NEO4J_PASSWORD)) as driver:\n",
    "    stmt = \"MATCH (n)-[r]->(m) RETURN n, r, m LIMIT 25\"\n",
    "    \n",
    "    # result = driver.execute_query(stmt, result_transformer_=neo4j.Result.to_df)\n",
    "    result = driver.execute_query(stmt, result_transformer_=neo4j.Result.graph)\n",
    "\n",
    "n, r = list(result.nodes), list(result.relationships)\n",
    "n, r"
   ]
  },
  {
   "cell_type": "code",
   "execution_count": 15,
   "id": "ffa75c2b",
   "metadata": {},
   "outputs": [
    {
     "data": {
      "text/plain": [
       "'Person'"
      ]
     },
     "execution_count": 15,
     "metadata": {},
     "output_type": "execute_result"
    }
   ],
   "source": [
    "list(n[0].labels)[0]"
   ]
  },
  {
   "cell_type": "code",
   "execution_count": 27,
   "id": "13b0a994",
   "metadata": {},
   "outputs": [
    {
     "data": {
      "text/plain": [
       "{'roles': ['Lead Grapher']}"
      ]
     },
     "execution_count": 27,
     "metadata": {},
     "output_type": "execute_result"
    }
   ],
   "source": [
    "# r[0].element_id\n",
    "# r[0].start_node.element_id\n",
    "# r[0].type\n",
    "dict(r[0])"
   ]
  },
  {
   "cell_type": "code",
   "execution_count": 7,
   "id": "4ccc5a3d",
   "metadata": {},
   "outputs": [
    {
     "name": "stdout",
     "output_type": "stream",
     "text": [
      "<Record n=<Node element_id='4:703ef6a2-7196-42db-bb05-eada244ccc77:0' labels=frozenset({'Person'}) properties={'born': 1980, 'name': 'Alice'}> r=<Relationship element_id='5:703ef6a2-7196-42db-bb05-eada244ccc77:0' nodes=(<Node element_id='4:703ef6a2-7196-42db-bb05-eada244ccc77:0' labels=frozenset({'Person'}) properties={'born': 1980, 'name': 'Alice'}>, <Node element_id='4:703ef6a2-7196-42db-bb05-eada244ccc77:3' labels=frozenset({'Movie'}) properties={'tagline': 'It’s all connected', 'title': 'The Great Graph', 'released': 2023}>) type='ACTED_IN' properties={'roles': ['Lead Grapher']}> m=<Node element_id='4:703ef6a2-7196-42db-bb05-eada244ccc77:3' labels=frozenset({'Movie'}) properties={'tagline': 'It’s all connected', 'title': 'The Great Graph', 'released': 2023}>>\n",
      "<Record n=<Node element_id='4:703ef6a2-7196-42db-bb05-eada244ccc77:1' labels=frozenset({'Person'}) properties={'born': 1990, 'name': 'Bob'}> r=<Relationship element_id='5:703ef6a2-7196-42db-bb05-eada244ccc77:1' nodes=(<Node element_id='4:703ef6a2-7196-42db-bb05-eada244ccc77:1' labels=frozenset({'Person'}) properties={'born': 1990, 'name': 'Bob'}>, <Node element_id='4:703ef6a2-7196-42db-bb05-eada244ccc77:4' labels=frozenset({'Movie'}) properties={'tagline': 'Deep dive into the matrix', 'title': 'Neo Adventure', 'released': 2020}>) type='ACTED_IN' properties={}> m=<Node element_id='4:703ef6a2-7196-42db-bb05-eada244ccc77:4' labels=frozenset({'Movie'}) properties={'tagline': 'Deep dive into the matrix', 'title': 'Neo Adventure', 'released': 2020}>>\n",
      "<Record n=<Node element_id='4:703ef6a2-7196-42db-bb05-eada244ccc77:2' labels=frozenset({'Person'}) properties={'born': 1975, 'name': 'Charlie'}> r=<Relationship element_id='5:703ef6a2-7196-42db-bb05-eada244ccc77:2' nodes=(<Node element_id='4:703ef6a2-7196-42db-bb05-eada244ccc77:2' labels=frozenset({'Person'}) properties={'born': 1975, 'name': 'Charlie'}>, <Node element_id='4:703ef6a2-7196-42db-bb05-eada244ccc77:3' labels=frozenset({'Movie'}) properties={'tagline': 'It’s all connected', 'title': 'The Great Graph', 'released': 2023}>) type='DIRECTED' properties={}> m=<Node element_id='4:703ef6a2-7196-42db-bb05-eada244ccc77:3' labels=frozenset({'Movie'}) properties={'tagline': 'It’s all connected', 'title': 'The Great Graph', 'released': 2023}>>\n",
      "<Record n=<Node element_id='4:703ef6a2-7196-42db-bb05-eada244ccc77:2' labels=frozenset({'Person'}) properties={'born': 1975, 'name': 'Charlie'}> r=<Relationship element_id='5:703ef6a2-7196-42db-bb05-eada244ccc77:3' nodes=(<Node element_id='4:703ef6a2-7196-42db-bb05-eada244ccc77:2' labels=frozenset({'Person'}) properties={'born': 1975, 'name': 'Charlie'}>, <Node element_id='4:703ef6a2-7196-42db-bb05-eada244ccc77:4' labels=frozenset({'Movie'}) properties={'tagline': 'Deep dive into the matrix', 'title': 'Neo Adventure', 'released': 2020}>) type='WROTE' properties={}> m=<Node element_id='4:703ef6a2-7196-42db-bb05-eada244ccc77:4' labels=frozenset({'Movie'}) properties={'tagline': 'Deep dive into the matrix', 'title': 'Neo Adventure', 'released': 2020}>>\n",
      "<Record n=<Node element_id='4:703ef6a2-7196-42db-bb05-eada244ccc77:0' labels=frozenset({'Person'}) properties={'born': 1980, 'name': 'Alice'}> r=<Relationship element_id='5:703ef6a2-7196-42db-bb05-eada244ccc77:4' nodes=(<Node element_id='4:703ef6a2-7196-42db-bb05-eada244ccc77:0' labels=frozenset({'Person'}) properties={'born': 1980, 'name': 'Alice'}>, <Node element_id='4:703ef6a2-7196-42db-bb05-eada244ccc77:5' labels=frozenset({'Company'}) properties={'name': 'DataCorp', 'industry': 'Tech'}>) type='WORKS_FOR' properties={'since': 2018}> m=<Node element_id='4:703ef6a2-7196-42db-bb05-eada244ccc77:5' labels=frozenset({'Company'}) properties={'name': 'DataCorp', 'industry': 'Tech'}>>\n"
     ]
    }
   ],
   "source": [
    "def retrieve_graph_data_tx(tx, limit=25):\n",
    "    result = tx.run(\"\"\"\n",
    "        MATCH (n)-[r]->(m) RETURN n, r, m \n",
    "        LIMIT $limit\n",
    "        \"\"\", limit=limit)\n",
    "    \n",
    "    return list(result)\n",
    "\n",
    "with GraphDatabase.driver(NEO4J_URI, auth=(NEO4J_USER, NEO4J_PASSWORD)) as driver:\n",
    "    stmt = \"MATCH (n)-[r]->(m) RETURN n, r, m LIMIT 25\"\n",
    "    \n",
    "    with driver.session() as session:\n",
    "        query = stmt\n",
    "        result = session.run(query)\n",
    "        \n",
    "        for record in result:\n",
    "            print(record)\n",
    "        \n",
    "# for record in result:\n",
    "#     print(record)"
   ]
  },
  {
   "cell_type": "code",
   "execution_count": null,
   "id": "9c28b149",
   "metadata": {},
   "outputs": [],
   "source": []
  }
 ],
 "metadata": {
  "kernelspec": {
   "display_name": ".component-venv",
   "language": "python",
   "name": "python3"
  },
  "language_info": {
   "codemirror_mode": {
    "name": "ipython",
    "version": 3
   },
   "file_extension": ".py",
   "mimetype": "text/x-python",
   "name": "python",
   "nbconvert_exporter": "python",
   "pygments_lexer": "ipython3",
   "version": "3.12.11"
  }
 },
 "nbformat": 4,
 "nbformat_minor": 5
}
